{
 "cells": [
  {
   "cell_type": "markdown",
   "metadata": {},
   "source": [
    "name : Ken Kuria\n",
    "date : 20/04/2022\n",
    "\n",
    "Project Instructions:\n",
    "1. Create a python function to check to check whether a number is Prime or not\n",
    "2. Create a python function that when you inputs a number the function you have created checks whether the number belongs to the Fibonacci sequence or not.\n",
    "NB: You have to push your work on any github/gitlab or bitbucket and share the link, all the best Happy coding."
   ]
  },
  {
   "cell_type": "code",
   "execution_count": 17,
   "metadata": {},
   "outputs": [
    {
     "name": "stdout",
     "output_type": "stream",
     "text": [
      "77 Not a prime number.\n",
      "None\n"
     ]
    }
   ],
   "source": [
    "#Solution 1\n",
    "#Checks if number you input is a prime number or not\n",
    "number = int(input(\"Enter Number: \"))\n",
    "\n",
    "def is_prime(number):\n",
    "\n",
    "    if number <= 1:\n",
    "        return False\n",
    "\n",
    "    else:\n",
    "        for i in range(2, number):\n",
    "            if number % i == 0:\n",
    "                return print(number, \"Not a prime number.\")\n",
    "    return print(number, \"is a prime number.\")\n",
    "print(f\"{is_prime(number)}\")"
   ]
  },
  {
   "cell_type": "code",
   "execution_count": 26,
   "metadata": {},
   "outputs": [
    {
     "name": "stdout",
     "output_type": "stream",
     "text": [
      "Found,Index is: 14\n"
     ]
    }
   ],
   "source": [
    "#Solution 2\n",
    "#Checks if input number belongs to the Fibonacci sequence or not\n",
    "\n",
    "num = int(input(\"Enter a number: \"))\n",
    "\n",
    "A = [0, 1]\n",
    "\n",
    "for i in range(2,720):\n",
    "\n",
    "    A.append(A[i-1]+A[i-2])\n",
    "\n",
    "bool=False\n",
    "\n",
    "for i in range(2,720):\n",
    "\n",
    "    if num==A[i]: \n",
    "\n",
    "        bool=True\n",
    "        break\n",
    "\n",
    "\n",
    "if bool==True:\n",
    "\n",
    "    print (\"Found,Index is:\",i+1)\n",
    "else: \n",
    "\n",
    "    print (\"Not Found\")\n"
   ]
  }
 ],
 "metadata": {
  "interpreter": {
   "hash": "916dbcbb3f70747c44a77c7bcd40155683ae19c65e1c03b4aa3499c5328201f1"
  },
  "kernelspec": {
   "display_name": "Python 3.8.10 64-bit",
   "language": "python",
   "name": "python3"
  },
  "language_info": {
   "codemirror_mode": {
    "name": "ipython",
    "version": 3
   },
   "file_extension": ".py",
   "mimetype": "text/x-python",
   "name": "python",
   "nbconvert_exporter": "python",
   "pygments_lexer": "ipython3",
   "version": "3.8.10"
  },
  "orig_nbformat": 4
 },
 "nbformat": 4,
 "nbformat_minor": 2
}
